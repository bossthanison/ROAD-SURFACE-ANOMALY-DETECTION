{
 "cells": [
  {
   "cell_type": "code",
   "execution_count": 2,
   "metadata": {},
   "outputs": [],
   "source": [
    "from zipfile import ZipFile, ZIP_DEFLATED\n",
    "import glob\n",
    "\n",
    "path_zip = \"./*.csv\"\n",
    "dir_zip = glob.glob(path_zip)"
   ]
  },
  {
   "cell_type": "code",
   "execution_count": 3,
   "metadata": {},
   "outputs": [
    {
     "name": "stdout",
     "output_type": "stream",
     "text": [
      "All files zipped successfully!\n"
     ]
    }
   ],
   "source": [
    "with ZipFile('TrainingData.zip','w') as zip:\n",
    "\t\t# writing each file one by one\n",
    "\t\tfor file in dir_zip:\n",
    "\t\t\tzip.write(file)\n",
    "\n",
    "print('All files zipped successfully!')\t"
   ]
  },
  {
   "cell_type": "code",
   "execution_count": null,
   "metadata": {},
   "outputs": [],
   "source": []
  }
 ],
 "metadata": {
  "kernelspec": {
   "display_name": "Python 3.10.4 ('.MSHackathon': venv)",
   "language": "python",
   "name": "python3"
  },
  "language_info": {
   "codemirror_mode": {
    "name": "ipython",
    "version": 3
   },
   "file_extension": ".py",
   "mimetype": "text/x-python",
   "name": "python",
   "nbconvert_exporter": "python",
   "pygments_lexer": "ipython3",
   "version": "3.10.4"
  },
  "orig_nbformat": 4,
  "vscode": {
   "interpreter": {
    "hash": "34944a3217db40aa6c4103c586e28038d8b186e449bb5baf3ebb42f71b3c9989"
   }
  }
 },
 "nbformat": 4,
 "nbformat_minor": 2
}
