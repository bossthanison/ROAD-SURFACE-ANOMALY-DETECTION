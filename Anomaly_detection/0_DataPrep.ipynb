{
 "cells": [
  {
   "cell_type": "code",
   "execution_count": 1,
   "metadata": {},
   "outputs": [],
   "source": [
    "import pandas as pd\n",
    "import numpy as np\n",
    "import glob\n",
    "from sklearn.preprocessing import StandardScaler\n",
    "\n"
   ]
  },
  {
   "cell_type": "code",
   "execution_count": 2,
   "metadata": {},
   "outputs": [],
   "source": [
    "path_acc = \"Data/SensorData_2/acc/*.txt\"\n",
    "dir_acc = glob.glob(path_acc)"
   ]
  },
  {
   "cell_type": "code",
   "execution_count": 3,
   "metadata": {},
   "outputs": [],
   "source": [
    "def concat_txt(filenames, file='file.txt'):\n",
    "    i=0\n",
    "    with open(file, 'w') as outfile:\n",
    "        for names in filenames:\n",
    "            if i == 0:\n",
    "                with open(names) as infile:\n",
    "                    outfile.write(infile.read())\n",
    "                    i+=1\n",
    "            else:\n",
    "                with open(names) as infile:\n",
    "                    next(infile)\n",
    "                    outfile.write(infile.read())\n",
    "                    i+=1\n",
    "                \n",
    "                outfile.write(\"\\n\")\n",
    "\n",
    "    return outfile"
   ]
  },
  {
   "cell_type": "code",
   "execution_count": 4,
   "metadata": {},
   "outputs": [],
   "source": [
    "acc_all = concat_txt(dir_acc, 'Data/SensorData_2/acc/acc_all.txt')"
   ]
  },
  {
   "cell_type": "code",
   "execution_count": 5,
   "metadata": {},
   "outputs": [],
   "source": [
    "df_acc = pd.read_csv(\n",
    "    'Data/SensorData_2/acc/acc_all.txt', \n",
    "    skiprows=1, \n",
    "    names=['timestamp', 'acc_X', 'acc_Y', 'acc_Z']\n",
    ")"
   ]
  },
  {
   "cell_type": "code",
   "execution_count": 6,
   "metadata": {},
   "outputs": [
    {
     "data": {
      "text/html": [
       "<div>\n",
       "<style scoped>\n",
       "    .dataframe tbody tr th:only-of-type {\n",
       "        vertical-align: middle;\n",
       "    }\n",
       "\n",
       "    .dataframe tbody tr th {\n",
       "        vertical-align: top;\n",
       "    }\n",
       "\n",
       "    .dataframe thead th {\n",
       "        text-align: right;\n",
       "    }\n",
       "</style>\n",
       "<table border=\"1\" class=\"dataframe\">\n",
       "  <thead>\n",
       "    <tr style=\"text-align: right;\">\n",
       "      <th></th>\n",
       "      <th>timestamp</th>\n",
       "      <th>acc_X</th>\n",
       "      <th>acc_Y</th>\n",
       "      <th>acc_Z</th>\n",
       "    </tr>\n",
       "  </thead>\n",
       "  <tbody>\n",
       "    <tr>\n",
       "      <th>0</th>\n",
       "      <td>2022-06-03T13:11:10.124000</td>\n",
       "      <td>0.272583</td>\n",
       "      <td>1.025817</td>\n",
       "      <td>9.718840</td>\n",
       "    </tr>\n",
       "    <tr>\n",
       "      <th>1</th>\n",
       "      <td>2022-06-03T13:11:10.224000</td>\n",
       "      <td>0.156125</td>\n",
       "      <td>0.893492</td>\n",
       "      <td>9.636810</td>\n",
       "    </tr>\n",
       "    <tr>\n",
       "      <th>2</th>\n",
       "      <td>2022-06-03T13:11:10.323000</td>\n",
       "      <td>0.289648</td>\n",
       "      <td>1.136137</td>\n",
       "      <td>9.863139</td>\n",
       "    </tr>\n",
       "    <tr>\n",
       "      <th>3</th>\n",
       "      <td>2022-06-03T13:11:10.423000</td>\n",
       "      <td>0.269290</td>\n",
       "      <td>0.885558</td>\n",
       "      <td>9.724079</td>\n",
       "    </tr>\n",
       "    <tr>\n",
       "      <th>4</th>\n",
       "      <td>2022-06-03T13:11:10.523000</td>\n",
       "      <td>0.296384</td>\n",
       "      <td>1.047372</td>\n",
       "      <td>9.838291</td>\n",
       "    </tr>\n",
       "  </tbody>\n",
       "</table>\n",
       "</div>"
      ],
      "text/plain": [
       "                    timestamp     acc_X     acc_Y     acc_Z\n",
       "0  2022-06-03T13:11:10.124000  0.272583  1.025817  9.718840\n",
       "1  2022-06-03T13:11:10.224000  0.156125  0.893492  9.636810\n",
       "2  2022-06-03T13:11:10.323000  0.289648  1.136137  9.863139\n",
       "3  2022-06-03T13:11:10.423000  0.269290  0.885558  9.724079\n",
       "4  2022-06-03T13:11:10.523000  0.296384  1.047372  9.838291"
      ]
     },
     "execution_count": 6,
     "metadata": {},
     "output_type": "execute_result"
    }
   ],
   "source": [
    "\n",
    "df_acc['timestamp'] = df_acc['timestamp'].apply(\n",
    "        lambda x: pd.Timestamp(x).isoformat())\n",
    "df_acc.head()"
   ]
  },
  {
   "cell_type": "code",
   "execution_count": 7,
   "metadata": {},
   "outputs": [],
   "source": [
    "cols = df_acc.columns\n",
    "data = df_acc[cols[1:]]"
   ]
  },
  {
   "cell_type": "code",
   "execution_count": 8,
   "metadata": {},
   "outputs": [
    {
     "name": "stderr",
     "output_type": "stream",
     "text": [
      "C:\\Users\\zamta\\AppData\\Local\\Temp\\ipykernel_25404\\4162465911.py:4: FutureWarning: Slicing a positional slice with .loc is not supported, and will raise TypeError in a future version.  Use .loc with labels or .iloc with positions instead.\n",
      "  df_acc.loc[:, 1:] = data_scale\n"
     ]
    }
   ],
   "source": [
    "scaler = StandardScaler()\n",
    "data_scale = scaler.fit_transform(data)\n",
    "\n",
    "df_acc.loc[:, 1:] = data_scale"
   ]
  },
  {
   "cell_type": "code",
   "execution_count": 9,
   "metadata": {},
   "outputs": [
    {
     "data": {
      "text/html": [
       "<div>\n",
       "<style scoped>\n",
       "    .dataframe tbody tr th:only-of-type {\n",
       "        vertical-align: middle;\n",
       "    }\n",
       "\n",
       "    .dataframe tbody tr th {\n",
       "        vertical-align: top;\n",
       "    }\n",
       "\n",
       "    .dataframe thead th {\n",
       "        text-align: right;\n",
       "    }\n",
       "</style>\n",
       "<table border=\"1\" class=\"dataframe\">\n",
       "  <thead>\n",
       "    <tr style=\"text-align: right;\">\n",
       "      <th></th>\n",
       "      <th>timestamp</th>\n",
       "      <th>acc_X</th>\n",
       "      <th>acc_Y</th>\n",
       "      <th>acc_Z</th>\n",
       "    </tr>\n",
       "  </thead>\n",
       "  <tbody>\n",
       "    <tr>\n",
       "      <th>0</th>\n",
       "      <td>2022-06-03T13:11:10.124000</td>\n",
       "      <td>0.717989</td>\n",
       "      <td>-0.069051</td>\n",
       "      <td>0.009118</td>\n",
       "    </tr>\n",
       "    <tr>\n",
       "      <th>1</th>\n",
       "      <td>2022-06-03T13:11:10.224000</td>\n",
       "      <td>0.493257</td>\n",
       "      <td>-0.248250</td>\n",
       "      <td>-0.112550</td>\n",
       "    </tr>\n",
       "    <tr>\n",
       "      <th>2</th>\n",
       "      <td>2022-06-03T13:11:10.323000</td>\n",
       "      <td>0.750920</td>\n",
       "      <td>0.080347</td>\n",
       "      <td>0.223144</td>\n",
       "    </tr>\n",
       "    <tr>\n",
       "      <th>3</th>\n",
       "      <td>2022-06-03T13:11:10.423000</td>\n",
       "      <td>0.711634</td>\n",
       "      <td>-0.258994</td>\n",
       "      <td>0.016889</td>\n",
       "    </tr>\n",
       "    <tr>\n",
       "      <th>4</th>\n",
       "      <td>2022-06-03T13:11:10.523000</td>\n",
       "      <td>0.763918</td>\n",
       "      <td>-0.039861</td>\n",
       "      <td>0.186289</td>\n",
       "    </tr>\n",
       "  </tbody>\n",
       "</table>\n",
       "</div>"
      ],
      "text/plain": [
       "                    timestamp     acc_X     acc_Y     acc_Z\n",
       "0  2022-06-03T13:11:10.124000  0.717989 -0.069051  0.009118\n",
       "1  2022-06-03T13:11:10.224000  0.493257 -0.248250 -0.112550\n",
       "2  2022-06-03T13:11:10.323000  0.750920  0.080347  0.223144\n",
       "3  2022-06-03T13:11:10.423000  0.711634 -0.258994  0.016889\n",
       "4  2022-06-03T13:11:10.523000  0.763918 -0.039861  0.186289"
      ]
     },
     "execution_count": 9,
     "metadata": {},
     "output_type": "execute_result"
    }
   ],
   "source": [
    "df_acc.head()"
   ]
  },
  {
   "cell_type": "code",
   "execution_count": 10,
   "metadata": {},
   "outputs": [],
   "source": [
    "def slice_df(df_name, col_name):\n",
    "    return df_name[['timestamp', col_name]].rename(columns={'Timestamp':'timestamp', col_name:'value'})"
   ]
  },
  {
   "cell_type": "code",
   "execution_count": 11,
   "metadata": {},
   "outputs": [],
   "source": [
    "for i in range(len(cols)-1):\n",
    "    dfx = slice_df(df_acc, cols[i+1])\n",
    "    dfx.to_csv(f'{cols[i+1]}.csv', index=False)"
   ]
  },
  {
   "cell_type": "code",
   "execution_count": 16,
   "metadata": {},
   "outputs": [],
   "source": [
    "path_pos = \"Data/SensorData_2/pos/*.txt\"\n",
    "dir_pos = glob.glob(path_pos)"
   ]
  },
  {
   "cell_type": "code",
   "execution_count": 17,
   "metadata": {},
   "outputs": [],
   "source": [
    "pos_all = concat_txt(dir_pos, 'Data/SensorData_2/pos/pos_all.txt')"
   ]
  },
  {
   "cell_type": "code",
   "execution_count": 38,
   "metadata": {},
   "outputs": [],
   "source": [
    "pos = pd.read_csv(\n",
    "    'Data/SensorData_2/pos/pos_all.txt', \n",
    "    skiprows=1, \n",
    "    names=['timestamp','latitude','longitude','altitude','speed','course','hacc']\n",
    ")"
   ]
  },
  {
   "cell_type": "code",
   "execution_count": 39,
   "metadata": {},
   "outputs": [],
   "source": [
    "pos['timestamp'] = pd.to_datetime(pos['timestamp']).dt.strftime('%Y-%m-%dT%H:%M:%SZ')"
   ]
  },
  {
   "cell_type": "code",
   "execution_count": 43,
   "metadata": {},
   "outputs": [],
   "source": [
    "pos[['timestamp', 'latitude', 'longitude']].to_csv('pos.csv', index=False)"
   ]
  },
  {
   "cell_type": "code",
   "execution_count": null,
   "metadata": {},
   "outputs": [],
   "source": []
  }
 ],
 "metadata": {
  "kernelspec": {
   "display_name": "Python 3.10.4 ('.MSHackathon': venv)",
   "language": "python",
   "name": "python3"
  },
  "language_info": {
   "codemirror_mode": {
    "name": "ipython",
    "version": 3
   },
   "file_extension": ".py",
   "mimetype": "text/x-python",
   "name": "python",
   "nbconvert_exporter": "python",
   "pygments_lexer": "ipython3",
   "version": "3.10.4"
  },
  "orig_nbformat": 4,
  "vscode": {
   "interpreter": {
    "hash": "34944a3217db40aa6c4103c586e28038d8b186e449bb5baf3ebb42f71b3c9989"
   }
  }
 },
 "nbformat": 4,
 "nbformat_minor": 2
}
