{
 "cells": [
  {
   "cell_type": "code",
   "execution_count": 12,
   "metadata": {},
   "outputs": [],
   "source": [
    "import requests\n",
    "import json\n",
    "import cv2 as cv\n",
    "import urllib.request\n",
    "import numpy as np"
   ]
  },
  {
   "cell_type": "code",
   "execution_count": 10,
   "metadata": {},
   "outputs": [
    {
     "name": "stdout",
     "output_type": "stream",
     "text": [
      "b'{\"id\":\"40989428-88f5-4a6f-b78a-2547cd3fad96\",\"project\":\"81d64d3d-7163-4bae-8342-c6db309b6869\",\"iteration\":\"c357df2e-67a8-4046-8a9b-55eb92880700\",\"created\":\"2022-06-18T20:02:21.625Z\",\"predictions\":[{\"probability\":0.62405413,\"tagId\":\"28db3a1e-d298-4d89-8760-7264203fb432\",\"tagName\":\"speedbump\"},{\"probability\":0.30141684,\"tagId\":\"afeb5646-af24-4081-b5bd-db1b9c8737c0\",\"tagName\":\"longitudinal\"},{\"probability\":0.031443637,\"tagId\":\"ed75b70b-e14e-43c6-aef5-7b7e8fb41fb3\",\"tagName\":\"lateral\"},{\"probability\":0.017946433,\"tagId\":\"b6b1fad8-9e6a-40c3-9b88-32f190f17d29\",\"tagName\":\"bridge\"},{\"probability\":0.017285733,\"tagId\":\"86fb6169-888b-4653-b1f8-5ce7e271f992\",\"tagName\":\"repaired\"},{\"probability\":0.007470196,\"tagId\":\"5115efa2-42fb-461f-b023-1e7501b7a8d1\",\"tagName\":\"manhole\"},{\"probability\":0.0003829839,\"tagId\":\"15f2e679-5ac4-4cf8-91aa-da586720944c\",\"tagName\":\"pothole\"}]}'\n"
     ]
    }
   ],
   "source": [
    "ENDPOINT = \"https://roadanomalyclassification-prediction.cognitiveservices.azure.com/customvision/v3.0/Prediction/81d64d3d-7163-4bae-8342-c6db309b6869/classify/iterations/Iteration2/url\"\n",
    "IMAGE = {\"Url\": \"https://i.ibb.co/7yykJdv/bridge-54.jpg\"}\n",
    "\n",
    "response = requests.post(\n",
    "        url = ENDPOINT,\n",
    "        headers={\n",
    "            \"Content-Type\": \"application/json\",\n",
    "            \"Prediction-Key\": \"4dd63b29d6a549e4ab2768d287ac2c70\",\n",
    "        },\n",
    "        data=json.dumps(IMAGE),\n",
    "    )\n",
    "\n",
    "print(response.content)"
   ]
  },
  {
   "cell_type": "code",
   "execution_count": 22,
   "metadata": {},
   "outputs": [
    {
     "data": {
      "text/plain": [
       "array([[[143, 133, 123],\n",
       "        [143, 133, 123],\n",
       "        [144, 131, 122],\n",
       "        ...,\n",
       "        [171, 167, 158],\n",
       "        [173, 169, 158],\n",
       "        [172, 168, 157]],\n",
       "\n",
       "       [[143, 133, 123],\n",
       "        [143, 133, 123],\n",
       "        [144, 131, 122],\n",
       "        ...,\n",
       "        [171, 167, 158],\n",
       "        [172, 168, 157],\n",
       "        [172, 168, 157]],\n",
       "\n",
       "       [[142, 132, 122],\n",
       "        [142, 132, 122],\n",
       "        [144, 131, 122],\n",
       "        ...,\n",
       "        [171, 167, 158],\n",
       "        [172, 168, 157],\n",
       "        [172, 168, 157]],\n",
       "\n",
       "       ...,\n",
       "\n",
       "       [[121, 111, 102],\n",
       "        [121, 111, 102],\n",
       "        [117, 107,  98],\n",
       "        ...,\n",
       "        [140, 136, 127],\n",
       "        [136, 132, 123],\n",
       "        [138, 134, 125]],\n",
       "\n",
       "       [[118, 108,  99],\n",
       "        [117, 107,  98],\n",
       "        [114, 104,  95],\n",
       "        ...,\n",
       "        [140, 136, 127],\n",
       "        [132, 128, 119],\n",
       "        [134, 130, 121]],\n",
       "\n",
       "       [[115, 105,  96],\n",
       "        [114, 104,  95],\n",
       "        [113, 103,  94],\n",
       "        ...,\n",
       "        [140, 136, 127],\n",
       "        [129, 125, 116],\n",
       "        [133, 129, 120]]], dtype=uint8)"
      ]
     },
     "execution_count": 22,
     "metadata": {},
     "output_type": "execute_result"
    }
   ],
   "source": [
    "#Preprocess\n",
    "req = urllib.request.urlopen('https://i.ibb.co/n7HxXxv/FILE220603-131425-009280-066.jpg')\n",
    "arr = np.asarray(bytearray(req.read()), dtype=np.uint8)\n",
    "input = cv.imdecode(arr, -1) # 'Load it as it is'\n",
    "img_bgr = cv.cvtColor(input, cv.COLOR_RGB2BGR)\n",
    "crop_img = img_bgr[650:750, 750:1250]\n",
    "cv.imwrite('FILE220603-131425-009280-066.jpg', crop_img)\n",
    "# crop_img\n",
    "\n",
    "ENDPOINT = \"https://roadanomalyclassification-prediction.cognitiveservices.azure.com/customvision/v3.0/Prediction/81d64d3d-7163-4bae-8342-c6db309b6869/classify/iterations/Iteration2/image\"\n",
    "IMAGE = 'FILE220603-131425-009280-066.jpg'\n",
    "\n",
    "img_file = open(IMAGE, 'rb')\n",
    "\n",
    "response = requests.post(\n",
    "        url = ENDPOINT,\n",
    "        headers={\n",
    "            \"Content-Type\": \"application/octet-stream\",\n",
    "            \"Prediction-Key\": \"4dd63b29d6a549e4ab2768d287ac2c70\",\n",
    "        },\n",
    "        data=IMAGE,\n",
    "    )\n",
    "\n",
    "print(response.content)"
   ]
  }
 ],
 "metadata": {
  "kernelspec": {
   "display_name": "Python 3.9.7 ('env': venv)",
   "language": "python",
   "name": "python3"
  },
  "language_info": {
   "codemirror_mode": {
    "name": "ipython",
    "version": 3
   },
   "file_extension": ".py",
   "mimetype": "text/x-python",
   "name": "python",
   "nbconvert_exporter": "python",
   "pygments_lexer": "ipython3",
   "version": "3.9.7"
  },
  "orig_nbformat": 4,
  "vscode": {
   "interpreter": {
    "hash": "d3d5e10f90624f1a49126a5db37c771696f4c3d0f3c24984b664f699be7c3c7b"
   }
  }
 },
 "nbformat": 4,
 "nbformat_minor": 2
}
